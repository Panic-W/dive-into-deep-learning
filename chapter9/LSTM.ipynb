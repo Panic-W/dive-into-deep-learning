{
 "cells": [
  {
   "cell_type": "code",
   "execution_count": null,
   "metadata": {},
   "outputs": [],
   "source": [
    "import torch\n",
    "from torch import nn"
   ]
  },
  {
   "cell_type": "code",
   "execution_count": null,
   "metadata": {},
   "outputs": [],
   "source": [
    "# 从零开始实现\n",
    "def get_params(vocab_size, num_hiddens, device):\n",
    "    '''初始化模型参数'''\n",
    "    num_inputs = num_outputs = vocab_size\n",
    "    def normal(shape):\n",
    "        return torch.randn(size=shape, device=device) * 0.01\n",
    "    def three():\n",
    "        return(normal((num_inputs, num_hiddens)),\n",
    "               normal((num_hiddens, num_hiddens)),\n",
    "               torch.zeros(num_hiddens , device=device))\n",
    "    \n",
    "    W_xi, W_hi, b_i = three()   # 输入门参数\n",
    "    W_xf, W_hf, b_f = three()   # 遗忘门参数\n",
    "    W_xo, W_ho, b_o = three()   # 输出门参数\n",
    "    W_xc, W_hc, b_c = three()   # 候选记忆元参数\n",
    "    # 输出层参数\n",
    "    W_hq = normal((num_hiddens, num_outputs), device=device)\n",
    "    b_q = torch.zreos(num_outputs, device=device)\n",
    "    # 附加梯度\n",
    "    params = [W_xi, W_hi, b_i, W_xf, W_hf, b_f, W_xo, W_ho, b_o, W_xc, W_hc, b_c, W_hq, b_q]\n",
    "    for param in params:\n",
    "        param.requires_grad_(True)\n",
    "    return params\n",
    "\n",
    "def init_lstm_state(batch_size, num_hiddens, device):\n",
    "    '''初始化记忆元和隐状态'''\n",
    "    return(torch.zeros((batch_size, num_hiddens), device=device),\n",
    "           torch.zeros((batch_size, num_hiddens), device=device))\n",
    "\n",
    "def lstm(inputs, state, params):\n",
    "    W_xi, W_hi, b_i, W_xf, W_hf, b_f, W_xo, W_ho, b_o, W_xc, W_hc, b_c, W_hq, b_q = params\n",
    "    (H, C) = state\n",
    "    outputs = []\n",
    "    for X in inputs:\n",
    "        I = torch.Sigmoid((X @ W_xi) + (H @ W_hi) + b_i)\n",
    "        F = torch.Sigmoid((X @ W_xf) + (H @ W_hf) + b_f)\n",
    "        O = torch.Sigmoid((X @ W_xo) + (H @ W_ho) + b_o)\n",
    "        C_tilda = torch.Tanh((X @ W_xc) + (H @ W_hc) + b_c)\n",
    "        C = F * C + I * C_tilda\n",
    "        H = O * torch.tanh(C)\n",
    "        Y = (H @ W_hq) + b_q\n",
    "        outputs.append(Y)\n",
    "    return torch.cat(outputs, dim=0), (H, C)\n"
   ]
  },
  {
   "cell_type": "code",
   "execution_count": null,
   "metadata": {},
   "outputs": [],
   "source": [
    "# 简洁实现\n",
    "num_inputs = vocab_size\n",
    "lstm_layer = nn.LSTM(num_inputs, num_hiddens)\n",
    "\n",
    "# 深度LSTM\n",
    "lstm_layer = nn.LSTM(num_inputs, num_hiddens, num_layers)\n",
    "\n",
    "# 双向LSTM\n",
    "lstm_layer = nn.LSTM(num_inputs, num_hiddens, num_layers, bidirectional = True)"
   ]
  }
 ],
 "metadata": {
  "kernelspec": {
   "display_name": "base",
   "language": "python",
   "name": "python3"
  },
  "language_info": {
   "name": "python",
   "version": "3.9.13 (main, Aug 25 2022, 23:51:50) [MSC v.1916 64 bit (AMD64)]"
  },
  "orig_nbformat": 4,
  "vscode": {
   "interpreter": {
    "hash": "b70f629c730ea2d5eceae52adb8909b87bf53809eb749f817a221e6a0b61b5c0"
   }
  }
 },
 "nbformat": 4,
 "nbformat_minor": 2
}
