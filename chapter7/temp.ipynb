{
 "cells": [
  {
   "cell_type": "code",
   "execution_count": 1,
   "metadata": {},
   "outputs": [],
   "source": [
    "import torch\n",
    "from torch import nn"
   ]
  },
  {
   "cell_type": "code",
   "execution_count": 4,
   "metadata": {},
   "outputs": [],
   "source": [
    "def batch_norm(X, gamma, beta, moving_mean, moving_var, eps, momentum):\n",
    "    # 通过is_grad_enabled来判断当前模式是训练模式还是预测模式\n",
    "    if not torch.is_grad_enabled():\n",
    "        # 如果是预测模式，直接使用传入的均值和方差\n",
    "        X_hat = (X - moving_mean) / torch.sqrt(moving_var + eps)\n",
    "    else:\n",
    "        assert len(X.shape) in (2, 4)\n",
    "        if len(X.shape) == '2':\n",
    "            # 使用使用全连接层的情况下，计算特征维上的均值和方差\n",
    "            mean = X.mean(dim=0)\n",
    "            var = ((X - mean) ** 2).mean(dim=0)\n",
    "        else:\n",
    "            # 使用二维卷积层的情况下，计算通道维上(axis=1)的均值和方差\n",
    "            mean = X.mean(dim=(0, 2, 3), keepdim=True)\n",
    "            var = ((X - mean) ** 2).mean(dim=(0, 2, 3), keepdim=True)\n",
    "        # 训练模式下用当前的均值和方差做标准化\n",
    "        X_hat = (X - mean) / torch.sqrt(var + eps)  # 卷积时此处会广播\n",
    "        # 更新移动平均的均值和方差\n",
    "        moving_mean = momentum * moving_mean + (1.0 - momentum) * mean\n",
    "        moving_var = momentum * moving_var + (1.0 - momentum) * var\n",
    "    Y = gamma * X_hat + beta\n",
    "    return Y, moving_mean.data, moving_var.data\n",
    "\n",
    "class BatchNorm(nn.Module):\n",
    "    def __init__(self, num_features, num_dims):\n",
    "        super().__init__()\n",
    "\n",
    "        if num_dims == 2:\n",
    "            shape = (1, num_features)\n",
    "        else:\n",
    "            shape = (1, num_features, 1, 1)\n",
    "\n",
    "        # 参与求梯度和迭代的拉伸和偏移参数，分别初始化成1和0\n",
    "        self.gamma = nn.Parameter(torch.ones(shape))\n",
    "        self.beta = nn.Parameter(torch.zeros(shape))\n",
    "        # 不参与求梯度和迭代的变量，全在内存上初始化成0\n",
    "        self.moving_mean = torch.zeros(shape)\n",
    "        self.moving_var = torch.zeros(shape)\n",
    "        \n",
    "    def forward(self, X):\n",
    "        # 如果X不在内存上，将moving_mean和moving_var复制到X所在显存上\n",
    "        if self.moving_mean.device != X.device:\n",
    "            self.moving_mean = self.moving_mean.to(X.device)\n",
    "            self.moving_var = self.moving_var.to(X.device)\n",
    "        # 保存更新过的moving_mean和moving_var\n",
    "        Y, self.moving_mean, self.moving_var = batch_norm(\n",
    "            X, self.gamma, self.beta, self.moving_mean,\n",
    "            self.moving_var, eps=1e-5, momentum=0.9)\n",
    "        return Y\n",
    "\n",
    "\n",
    "\n",
    "\n",
    "\n",
    "\n",
    "\n",
    "\n",
    "\n",
    "\n"
   ]
  },
  {
   "cell_type": "code",
   "execution_count": 5,
   "metadata": {},
   "outputs": [
    {
     "name": "stdout",
     "output_type": "stream",
     "text": [
      "torch.Size([2, 64, 100, 40])\n"
     ]
    }
   ],
   "source": [
    "BN = BatchNorm(num_features=64, num_dims=4)\n",
    "X = torch.rand((2, 64, 100, 40))\n",
    "Y = BN(X)\n",
    "print(Y.shape)"
   ]
  },
  {
   "cell_type": "code",
   "execution_count": 11,
   "metadata": {},
   "outputs": [],
   "source": [
    "class SSN2d(nn.Module):\n",
    "    def __init__(self, num_channels, S):\n",
    "        super().__init__()\n",
    "        self.S = S\n",
    "        shape = (1, num_channels*S, 1, 1)\n",
    "        # 参与求梯度和迭代的拉伸和偏移参数，分别初始化成1和0\n",
    "        self.gamma = nn.Parameter(torch.ones(shape))\n",
    "        self.beta = nn.Parameter(torch.zeros(shape))\n",
    "        # 不参与求梯度和迭代的变量，全在内存上初始化成0\n",
    "        self.moving_mean = torch.zeros(shape)\n",
    "        self.moving_var = torch.zeros(shape)\n",
    "    \n",
    "    def subspectral_normalization(self, X, gamma, beta, S, moving_mean, moving_var, eps, momentum):\n",
    "        N, C, T, F = X.size()\n",
    "        X = X.view(N, C*S, T, F//S)\n",
    "        # 通过is_grad_enabled来判断当前模式是训练模式还是预测模式\n",
    "        if not torch.is_grad_enabled():\n",
    "            # 如果是预测模式，直接使用传入的均值和方差\n",
    "            X_hat = (X - moving_mean) / torch.sqrt(moving_var + eps)\n",
    "        else:\n",
    "            # 训练模式下用当前的均值和方差做标准化\n",
    "            mean = X.mean(dim=(0, 2, 3), keepdim=True)\n",
    "            var = ((X - mean) ** 2).mean(dim=(0, 2, 3), keepdim=True)\n",
    "            X_hat = (X - mean) / torch.sqrt(var + eps)\n",
    "            # 更新移动平均的均值和方差\n",
    "            moving_mean = momentum * moving_mean + (1.0 - momentum) * mean\n",
    "            moving_var = momentum * moving_var + (1.0 - momentum) * var\n",
    "        Y = (gamma * X_hat + beta).view(N, C, T, F)\n",
    "        return Y, moving_mean.data, moving_var.data\n",
    "    def forward(self, X):\n",
    "        # 如果X不在内存上，将moving_mean和moving_var复制到X所在显存上\n",
    "        if self.moving_mean.device != X.device:\n",
    "            self.moving_mean = self.moving_mean.to(X.device)\n",
    "            self.moving_var = self.moving_var.to(X.device)\n",
    "        # 保存更新过的moving_mean和moving_var\n",
    "        Y, self.moving_mean, self.moving_var = self.subspectral_normalization(\n",
    "            X, self.gamma, self.beta, self.S, self.moving_mean, \n",
    "            self.moving_var, eps=1e-5, momentum=0.9)\n",
    "        return Y"
   ]
  },
  {
   "cell_type": "code",
   "execution_count": 15,
   "metadata": {},
   "outputs": [
    {
     "name": "stdout",
     "output_type": "stream",
     "text": [
      "tensor([[[[ 0.1144, -0.3538,  1.2873, -1.4031,  1.2023, -0.5034, -1.6049,\n",
      "           -0.1083],\n",
      "          [ 1.3196, -0.9511, -1.2040, -1.0659, -1.1939, -0.9900, -0.7897,\n",
      "            1.1286]],\n",
      "\n",
      "         [[-1.7339,  0.4955,  1.3794,  0.1014, -1.2262, -0.4035,  0.0567,\n",
      "            0.0411],\n",
      "          [ 0.4297, -0.9388,  0.2911, -1.2167,  1.2421, -0.8202,  1.2921,\n",
      "            0.2289]],\n",
      "\n",
      "         [[-0.9226, -0.9577, -0.4917,  1.5446, -1.4477,  0.9155,  0.5207,\n",
      "            0.3896],\n",
      "          [ 0.1566, -0.2950,  1.4262,  0.4455,  0.3263, -1.1356, -0.4894,\n",
      "            1.2034]],\n",
      "\n",
      "         [[-1.1183, -0.7862,  1.4285,  1.5689, -0.8271,  1.0257,  0.6956,\n",
      "           -0.6104],\n",
      "          [-0.7010,  1.5601,  0.3912, -1.1139, -1.1063,  0.2836, -0.2685,\n",
      "           -1.4253]]],\n",
      "\n",
      "\n",
      "        [[[-0.7654, -1.0932,  1.0647,  1.1492,  0.7270, -0.7571,  1.5385,\n",
      "           -0.4940],\n",
      "          [-0.2911,  1.5667,  0.1866,  0.4391,  1.2680,  1.0745,  0.3879,\n",
      "           -0.8854]],\n",
      "\n",
      "         [[ 0.3204, -0.6707, -1.0126,  1.1207,  1.4337,  0.0593,  1.4802,\n",
      "           -1.4412],\n",
      "          [ 1.5447, -1.2103, -0.1248,  1.2251, -1.3147, -1.4204,  0.4288,\n",
      "            0.3635]],\n",
      "\n",
      "         [[-1.2370,  0.8811,  1.1374,  0.0459, -1.2807,  0.8269,  1.1138,\n",
      "           -1.0382],\n",
      "          [-1.7175,  1.3236, -0.5021, -0.8373, -1.0460, -0.5954,  1.8577,\n",
      "           -0.1210]],\n",
      "\n",
      "         [[ 0.6483, -0.3491, -0.4540, -0.9381, -0.0190,  1.5691, -0.1226,\n",
      "           -1.7113],\n",
      "          [ 1.5147, -0.9863, -0.0226, -0.6422,  0.0735,  1.5107,  1.4326,\n",
      "           -0.5004]]]], grad_fn=<ViewBackward0>)\n"
     ]
    }
   ],
   "source": [
    "SSN = SSN2d(num_channels=4, S=4)\n",
    "X = torch.rand((2, 4, 2, 8))\n",
    "Y = SSN(X)\n",
    "print(Y)"
   ]
  }
 ],
 "metadata": {
  "kernelspec": {
   "display_name": "myEnv",
   "language": "python",
   "name": "python3"
  },
  "language_info": {
   "codemirror_mode": {
    "name": "ipython",
    "version": 3
   },
   "file_extension": ".py",
   "mimetype": "text/x-python",
   "name": "python",
   "nbconvert_exporter": "python",
   "pygments_lexer": "ipython3",
   "version": "3.9.18 (main, Sep 11 2023, 13:30:38) [MSC v.1916 64 bit (AMD64)]"
  },
  "orig_nbformat": 4,
  "vscode": {
   "interpreter": {
    "hash": "af77ae0d45bf51025bcc6ee4d13239919a43d47d522bf9314842083250c0a012"
   }
  }
 },
 "nbformat": 4,
 "nbformat_minor": 2
}
