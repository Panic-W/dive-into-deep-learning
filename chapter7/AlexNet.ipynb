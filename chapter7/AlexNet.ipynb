{
 "cells": [
  {
   "cell_type": "code",
   "execution_count": 34,
   "metadata": {},
   "outputs": [],
   "source": [
    "import torch\n",
    "from torch import nn\n",
    "from d2l import torch as d2l"
   ]
  },
  {
   "cell_type": "code",
   "execution_count": 31,
   "metadata": {},
   "outputs": [],
   "source": [
    "class AlexNet(nn.Module):\n",
    "    def __init__(self,**kwargs):\n",
    "        super(AlexNet, self).__init__(**kwargs)\n",
    "        self.con1 = nn.Conv2d(1, 96, kernel_size=(11,11), stride=4)\n",
    "        self.relu1 = nn.ReLU()\n",
    "        self.maxPool1 = nn.MaxPool2d(kernel_size=(3,3), stride=2)\n",
    "        self.con2 = nn.Conv2d(96, 256, kernel_size=(5,5), padding=2)\n",
    "        self.relu2 = nn.ReLU()\n",
    "        self.maxPool2 = nn.MaxPool2d(kernel_size=(3,3), stride=2)\n",
    "        self.con3 = nn.Conv2d(256, 384, kernel_size=(3,3), padding=1)\n",
    "        self.relu3 = nn.ReLU()\n",
    "        self.con4 = nn.Conv2d(384, 384, kernel_size=(3,3), padding=1)\n",
    "        self.relu4 = nn.ReLU()\n",
    "        self.con5 = nn.Conv2d(384, 256, kernel_size=(3,3), padding=1)\n",
    "        self.relu5 = nn.ReLU()\n",
    "        self.maxPool3 = nn.MaxPool2d(kernel_size=(3,3), stride=2)\n",
    "        self.flat = nn.Flatten()\n",
    "        self.ffn1 = nn.Linear(6400, 4096)\n",
    "        self.relu6 = nn.ReLU()\n",
    "        self.drop1 = nn.Dropout(0.5)\n",
    "        self.ffn2 = nn.Linear(4096, 4096)\n",
    "        self.relu7 = nn.ReLU()\n",
    "        self.drop2 = nn.Dropout(0.5)\n",
    "        self.ffn3 = nn.Linear(4096, 10)\n",
    "        \n",
    "    \n",
    "    def forward(self, X):\n",
    "        X = self.maxPool1(self.relu1(self.con1(X)))\n",
    "        X = self.maxPool2(self.relu2(self.con2(X)))\n",
    "        X = self.relu3(self.con3(X))\n",
    "        X = self.relu4(self.con4(X))\n",
    "        X = self.maxPool3(self.relu5(self.con5(X)))\n",
    "        X = self.flat(X)\n",
    "        X = self.relu6(self.ffn1(X))\n",
    "        X = self.drop1(X)\n",
    "        X = self.relu7(self.ffn2(X))\n",
    "        X = self.drop2(X)\n",
    "        Y = self.ffn3(X)\n",
    "\n",
    "        return Y\n",
    "\n",
    "net = AlexNet()\n"
   ]
  },
  {
   "cell_type": "code",
   "execution_count": 32,
   "metadata": {},
   "outputs": [
    {
     "name": "stdout",
     "output_type": "stream",
     "text": [
      "torch.Size([1, 10])\n"
     ]
    }
   ],
   "source": [
    "X = torch.ones((1,1, 224, 224))\n",
    "# print(X.shape)\n",
    "Y = net(X)\n",
    "print(Y.shape)\n",
    "# for layer in net:\n",
    "#     X = layer(X)\n",
    "#     print(f'layer:{net.__class__.__name__()}, output shape:{X.shape}')\n"
   ]
  },
  {
   "cell_type": "code",
   "execution_count": 35,
   "metadata": {},
   "outputs": [],
   "source": [
    "batch_size = 128\n",
    "lr, num_epochs = 0.01, 10\n",
    "train_iter, test_iter = d2l.load_data_fashion_mnist(batch_size, resize=224)\n"
   ]
  },
  {
   "cell_type": "code",
   "execution_count": null,
   "metadata": {},
   "outputs": [],
   "source": [
    "def train(net, train_iter, test_iter, num_epochs, lr, device):\n",
    "    def init_weights(m):\n",
    "        if type(m) == nn.Linear or type(m) == nn.Conv2d:\n",
    "            nn.init.xavier_uniform_(m.weight)\n",
    "    net.apply(init_weights)\n",
    "\n",
    "    print('train on:', device)\n",
    "    net.to(device)\n",
    "\n",
    "    optimizer = torch.optim.SGD(net.paremeters(), lr=lr)\n",
    "    loss = nn.CrossEntropyLoss()\n",
    "    \n",
    "    # 以下两行不用深究，拿过来用就行了。\n",
    "    animator = d2l.Animator(xlabel='epoch', xlim=[1, num_epochs], legend=['train_loss', 'train_acc', 'test_acc'])"
   ]
  }
 ],
 "metadata": {
  "kernelspec": {
   "display_name": "pytorch1131",
   "language": "python",
   "name": "python3"
  },
  "language_info": {
   "codemirror_mode": {
    "name": "ipython",
    "version": 3
   },
   "file_extension": ".py",
   "mimetype": "text/x-python",
   "name": "python",
   "nbconvert_exporter": "python",
   "pygments_lexer": "ipython3",
   "version": "3.9.16"
  },
  "orig_nbformat": 4
 },
 "nbformat": 4,
 "nbformat_minor": 2
}
